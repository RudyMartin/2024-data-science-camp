{
  "nbformat": 4,
  "nbformat_minor": 0,
  "metadata": {
    "colab": {
      "provenance": []
    },
    "kernelspec": {
      "name": "python3",
      "display_name": "Python 3"
    },
    "language_info": {
      "name": "python"
    }
  },
  "cells": [
    {
      "cell_type": "markdown",
      "source": [
        "# Data Preparation"
      ],
      "metadata": {
        "id": "5mbr2A3fUaoF"
      }
    },
    {
      "cell_type": "markdown",
      "source": [
        "## Introduction"
      ],
      "metadata": {
        "id": "LDTcEIW5sqoc"
      }
    },
    {
      "cell_type": "markdown",
      "source": [
        "The first part of building any AI model is finding appropriate data. For your project, the model will be classifying images, so your data should be images as well. In this module, you will learn how to obtain your data using different methods and process it, so it is ready to be ingested by the model."
      ],
      "metadata": {
        "id": "loN25193MvNe"
      }
    },
    {
      "cell_type": "markdown",
      "source": [
        "## Image Representation"
      ],
      "metadata": {
        "id": "RZfLtVHjskyG"
      }
    },
    {
      "cell_type": "markdown",
      "source": [
        "Most of the digital images available today are represented in __raster__ format. Raster image contains a two-dimensional table of _pixels_ - small squared (or rectangular) shape elements of the image."
      ],
      "metadata": {
        "id": "rfqW5GzYsxqi"
      }
    },
    {
      "cell_type": "markdown",
      "source": [
        "![](https://drive.google.com/uc?export=view&id=1AeC4a6YCNDBFm3ArdyiKgM7rCHn92xg1)"
      ],
      "metadata": {
        "id": "GfhI8S5XYY_A"
      }
    },
    {
      "cell_type": "markdown",
      "source": [
        "There are various ways the information can be embedded into pixel, however we will use the most popular method of RGB, representing three-sized tuple of Red, Green, and Blue intensities.\n"
      ],
      "metadata": {
        "id": "vFmpeclBYZPF"
      }
    },
    {
      "cell_type": "markdown",
      "source": [
        "![](https://drive.google.com/uc?export=view&id=1yjsqrUxGGecJXvrwFHSX6ZJ1jrjUK11R)"
      ],
      "metadata": {
        "id": "3cAC7YHlZsdJ"
      }
    },
    {
      "cell_type": "markdown",
      "source": [
        "In other words, every pixel is a sequence of three numbers (usually from 0 to 255) and image is a table of pixels."
      ],
      "metadata": {
        "id": "8M1H2EhOZmcp"
      }
    },
    {
      "cell_type": "markdown",
      "source": [
        "![](https://drive.google.com/uc?export=view&id=1Hi3HFJU-yXJX1vtd7lyhIBtSY5WEeXCW)"
      ],
      "metadata": {
        "id": "o6ijjQJzZtDX"
      }
    },
    {
      "cell_type": "markdown",
      "source": [
        "Hence, input representation for any colored image can be thought of as three-dimensional table, with dimensions ($width$, $height$, $3$), where ($width$, $height$) tuple is known as _image resolution_. The ratio of the two ($width/frac$) is known as aspect ratio."
      ],
      "metadata": {
        "id": "SKGxI7WBZqQu"
      }
    },
    {
      "cell_type": "markdown",
      "source": [
        "## Obtaining Data"
      ],
      "metadata": {
        "id": "5Es3tFiVsxwL"
      }
    },
    {
      "cell_type": "markdown",
      "source": [
        "There are various ways the data can be obtained for the project, however we will be focusing on two methods:\n",
        "\n",
        "1. Creating images using photo camera (such as the one you have in your phones).\n",
        "2. Creating snapshots from a video feed (which can be created using web camera).\n",
        "\n",
        "These methods have no meaningful advantages over each other for this project. You can use whichever is more preferrable to you or combination of both. Beloww is the sceleton code that you can use to prepare the data for data pre-processing."
      ],
      "metadata": {
        "id": "fMHrzXOBzKJg"
      }
    },
    {
      "cell_type": "markdown",
      "source": [
        "Mount your Google Drive using your Gmail account. Proceed to the folder where you will store the data for your project."
      ],
      "metadata": {
        "id": "OnEF_PC_0pdG"
      }
    },
    {
      "cell_type": "code",
      "execution_count": 1,
      "metadata": {
        "colab": {
          "base_uri": "https://localhost:8080/"
        },
        "id": "M_gxzY1HUSHF",
        "outputId": "a1c0ee93-d9eb-41b9-b88a-72471f7868d8"
      },
      "outputs": [
        {
          "output_type": "stream",
          "name": "stdout",
          "text": [
            "Mounted at /content/gdrive\n"
          ]
        }
      ],
      "source": [
        "from google.colab import drive\n",
        "drive.mount('/content/gdrive')"
      ]
    },
    {
      "cell_type": "code",
      "source": [
        "### Name Project folder\n",
        "proj_name = 'rps/train'\n",
        "###\n",
        "\n",
        "proj_path = '/content/gdrive/MyDrive/'+proj_name"
      ],
      "metadata": {
        "id": "Sph5Z9AuWWaA"
      },
      "execution_count": 2,
      "outputs": []
    },
    {
      "cell_type": "markdown",
      "source": [
        "You only need to run following cells once to create folders. Cells output will throw an error for any subsequent runs."
      ],
      "metadata": {
        "id": "z-SigUWC6boy"
      }
    },
    {
      "cell_type": "code",
      "source": [
        "%mkdir $proj_path"
      ],
      "metadata": {
        "id": "AHKwgGkE50d5"
      },
      "execution_count": null,
      "outputs": []
    },
    {
      "cell_type": "code",
      "source": [
        "%mkdir {proj_path+'/rock'}"
      ],
      "metadata": {
        "id": "7JGfKcvH5tK4"
      },
      "execution_count": null,
      "outputs": []
    },
    {
      "cell_type": "code",
      "source": [
        "%mkdir {proj_path+'/paper'}"
      ],
      "metadata": {
        "id": "KLx48pvr5wts"
      },
      "execution_count": null,
      "outputs": []
    },
    {
      "cell_type": "code",
      "source": [
        "%mkdir {proj_path+'/scissors'}"
      ],
      "metadata": {
        "id": "4aJGRH-15wxo"
      },
      "execution_count": null,
      "outputs": []
    },
    {
      "cell_type": "markdown",
      "source": [
        "Change current directory to project folder."
      ],
      "metadata": {
        "id": "OXTEAS3x6o3r"
      }
    },
    {
      "cell_type": "code",
      "source": [
        "## Change the current directory\n",
        "%cd $proj_path\n",
        "%ls"
      ],
      "metadata": {
        "id": "2AUBkP5A5Ro_",
        "colab": {
          "base_uri": "https://localhost:8080/"
        },
        "outputId": "54fdfab1-117a-47ef-d811-4ba88abae397"
      },
      "execution_count": 3,
      "outputs": [
        {
          "output_type": "stream",
          "name": "stdout",
          "text": [
            "/content/gdrive/MyDrive/rps/train\n",
            "\u001b[0m\u001b[01;34mpaper\u001b[0m/  \u001b[01;34mrock\u001b[0m/  \u001b[01;34mscissors\u001b[0m/\n"
          ]
        }
      ]
    },
    {
      "cell_type": "markdown",
      "source": [
        "### Using Web Camera"
      ],
      "metadata": {
        "id": "d6FL03U20hIo"
      }
    },
    {
      "cell_type": "markdown",
      "source": [
        "Run the following cell. It will create a function that will take a snapshot from your webcam by pressing a button and save the file in your current folder."
      ],
      "metadata": {
        "id": "UPs9pJRr1Hvt"
      }
    },
    {
      "cell_type": "code",
      "source": [
        "from IPython.display import display, Javascript\n",
        "from google.colab.output import eval_js\n",
        "from base64 import b64decode\n",
        "\n",
        "def take_photo(filename='photo.jpg', quality=0.8):\n",
        "  js = Javascript('''\n",
        "    async function takePhoto(quality) {\n",
        "      const div = document.createElement('div');\n",
        "      const capture = document.createElement('button');\n",
        "      capture.textContent = 'Capture';\n",
        "      div.appendChild(capture);\n",
        "\n",
        "      const video = document.createElement('video');\n",
        "      video.style.display = 'block';\n",
        "      const stream = await navigator.mediaDevices.getUserMedia({video: true});\n",
        "\n",
        "      document.body.appendChild(div);\n",
        "      div.appendChild(video);\n",
        "      video.srcObject = stream;\n",
        "      await video.play();\n",
        "\n",
        "      // Resize the output to fit the video element.\n",
        "      google.colab.output.setIframeHeight(document.documentElement.scrollHeight, true);\n",
        "\n",
        "      // Wait for Capture to be clicked.\n",
        "      await new Promise((resolve) => capture.onclick = resolve);\n",
        "\n",
        "      const canvas = document.createElement('canvas');\n",
        "      canvas.width = video.videoWidth;\n",
        "      canvas.height = video.videoHeight;\n",
        "      canvas.getContext('2d').drawImage(video, 0, 0);\n",
        "      stream.getVideoTracks()[0].stop();\n",
        "      div.remove();\n",
        "      return canvas.toDataURL('image/jpeg', quality);\n",
        "    }\n",
        "    ''')\n",
        "  display(js)\n",
        "  data = eval_js('takePhoto({})'.format(quality))\n",
        "  binary = b64decode(data.split(',')[1])\n",
        "  with open(filename, 'wb') as f:\n",
        "    f.write(binary)\n",
        "  return filename"
      ],
      "metadata": {
        "id": "13JuqVJb5X_N"
      },
      "execution_count": null,
      "outputs": []
    },
    {
      "cell_type": "markdown",
      "source": [
        "Change the parameters in the cells to choose number of snapshots for each gesture. Run the cell and follow the prompt."
      ],
      "metadata": {
        "id": "haTeOqdS1ri8"
      }
    },
    {
      "cell_type": "markdown",
      "source": [
        "![](https://drive.google.com/uc?export=view&id=1YrurRp9FYI3yGmzqqIG9wuPrIpBiAO1D)"
      ],
      "metadata": {
        "id": "u5onYsw6aFum"
      }
    },
    {
      "cell_type": "code",
      "source": [
        "from IPython.display import Image\n",
        "\n",
        "### Choose these parameters\n",
        "# maxRock - number of images taken with \"rock\" gesture\n",
        "# maxPaper - number of images taken with \"paper\" gesture\n",
        "# maxScissors - number of images taken with \"scissors\" gesture\n",
        "###\n",
        "\n",
        "maxRock = 5\n",
        "maxPaper = 5\n",
        "maxScissors = 5\n",
        "\n",
        "### End initialization\n",
        "###\n",
        "try:\n",
        "  ct = int(1)\n",
        "  maxPaper = maxRock + maxPaper\n",
        "  maxScissors = maxPaper + maxScissors\n",
        "  while True:\n",
        "    if ct <= maxRock:\n",
        "      print(\"Show Rock and press Capture!\")\n",
        "      label = \"rock\"\n",
        "    elif ct <= maxPaper:\n",
        "      print(\"Show Paper and press Capture!\")\n",
        "      label = \"paper\"\n",
        "    else:\n",
        "      print(\"Show Scissors and press Capture!\")\n",
        "      label = \"scissors\"\n",
        "\n",
        "    filename = take_photo(label + \"/\" +label+'_'+str(ct))\n",
        "\n",
        "    print('Saved to {}'.format(filename))\n",
        "\n",
        "    ct += 1\n",
        "    if ct > maxScissors:\n",
        "      break\n",
        "except Exception as err:\n",
        "  # Errors will be thrown if the user does not have a webcam or if they do not\n",
        "  # grant the page permission to access it.\n",
        "  print(str(err))"
      ],
      "metadata": {
        "id": "1KygbE7b5aJc",
        "colab": {
          "base_uri": "https://localhost:8080/"
        },
        "outputId": "246eac93-3ecc-4b50-b51e-e0e90d9b8426"
      },
      "execution_count": null,
      "outputs": [
        {
          "output_type": "stream",
          "name": "stdout",
          "text": [
            "Show Rock and press Capture!\n",
            "name 'take_photo' is not defined\n"
          ]
        }
      ]
    },
    {
      "cell_type": "markdown",
      "source": [
        "### Using photo camera"
      ],
      "metadata": {
        "id": "MwK198JZFGpf"
      }
    },
    {
      "cell_type": "markdown",
      "source": [
        "0. If you have iPhone, please change File formats before you take pictures. In Settings -> Camera -> Formats, choose Most Compatible. You can change it back after pictures are taken.\n",
        "1. Make pictures of different gestures using you camera.\n",
        "2. Download and Install Google Drive App (if not already installed).\n",
        "3. Copy images in the respective folders.\n",
        "4. Run the cell below to rename files to general convention."
      ],
      "metadata": {
        "id": "TRrqBcXBFPq0"
      }
    },
    {
      "cell_type": "markdown",
      "source": [
        "## Creating Data Tips"
      ],
      "metadata": {
        "id": "fsvlBb-3NFEO"
      }
    },
    {
      "cell_type": "markdown",
      "source": [
        "1. Ensure image is of high quality and the gesture is discernible by human eye. If a human cannot classify the image, neither will machine!\n",
        "2. Keep background clean and the classification object large enough to improve quality of learning.\n",
        "  - If there are extraneous items in the background, the algorithm may incorrectly aim these items to be part of classification solution.\n",
        "  - If object is too small and not prominent, algorithm will tend to focus on background more, reducing accuracy.\n",
        "3. Ensure appropriate aspect ratio. Changing aspect ratio will stretch/shrink object on the image, which makes learning more difficult.\n",
        "4. Ensure labels are correct, i.e. appropriate images are stored in their respective folders."
      ],
      "metadata": {
        "id": "1dSD39QONJw0"
      }
    },
    {
      "cell_type": "markdown",
      "source": [
        "## Data pre-processing"
      ],
      "metadata": {
        "id": "Ohi10G-0Pd2X"
      }
    },
    {
      "cell_type": "markdown",
      "source": [
        "To uphold principle of fairness and simplify machine learning process, all images need to be converted into same file format (.jpg) and same resolution. Please run the cell below to convert the files to common format.\n",
        "\n",
        "Participants are also encouraged to manually edit the pictures, using tips above, to improve accuracy of their learning algorithm."
      ],
      "metadata": {
        "id": "8ug7C86rPlCP"
      }
    },
    {
      "cell_type": "markdown",
      "source": [
        "Converts code and renames bad files with starting 'z' name."
      ],
      "metadata": {
        "id": "fhdJbLcDPDLn"
      }
    },
    {
      "cell_type": "code",
      "source": [
        "from os import listdir, rename\n",
        "from os.path import isfile, join\n",
        "from PIL import Image\n",
        "from os.path import splitext\n",
        "\n",
        "proj_path = '/content/gdrive/MyDrive/rps/train'\n",
        "\n",
        "\n",
        "for label in ['rock', 'paper', 'scissors']:\n",
        "    for i in [f for f in listdir(join(proj_path, label)) if isfile(join(proj_path, label, f))]:\n",
        "        file_path = join(proj_path, label, i)\n",
        "        file_name, file_ext = splitext(i)\n",
        "\n",
        "        try:\n",
        "            im = Image.open(file_path)\n",
        "            im = im.resize((640, 480))\n",
        "\n",
        "            if file_ext.lower() in ['.png', '.jpeg']:\n",
        "                # Convert RGBA to RGB if the image has an alpha channel\n",
        "                if im.mode == 'RGBA':\n",
        "                    im = im.convert('RGB')\n",
        "                new_file_path = join(proj_path, label, f\"{file_name}.jpg\")\n",
        "                im.save(new_file_path, 'jpeg')\n",
        "                print(f\"Successfully Converted {i} to {file_name}.jpg\")\n",
        "                # Optionally, remove the original file\n",
        "                # os.remove(file_path)\n",
        "            else:\n",
        "                new_file_path = join(proj_path, label, f\"{file_name}.jpg\")\n",
        "                im.save(new_file_path, 'jpeg')\n",
        "                print(f\"Successfully Resized {i} and saved as {file_name}.jpg\")\n",
        "\n",
        "        except Exception as e:\n",
        "            print(f\"Error processing file {i} at {file_path}: {e}\")\n",
        "            # Rename the problematic file with 'z_' prefix\n",
        "            new_file_path = join(proj_path, label, f\"z_{i}\")\n",
        "            rename(file_path, new_file_path)\n",
        "            print(f\"Renamed problematic file {i} to z_{i}\")\n",
        "\n"
      ],
      "metadata": {
        "id": "auEaWnzkSG5_",
        "colab": {
          "base_uri": "https://localhost:8080/"
        },
        "outputId": "d8d384b4-ce8a-4715-ed70-aa5fa48594bc"
      },
      "execution_count": 28,
      "outputs": [
        {
          "output_type": "stream",
          "name": "stdout",
          "text": [
            "Successfully Resized rock_11.jpg and saved as rock_11.jpg\n",
            "Successfully Resized rock_7.jpg and saved as rock_7.jpg\n",
            "Successfully Resized rock_13.jpg and saved as rock_13.jpg\n",
            "Successfully Resized rock_17.jpg and saved as rock_17.jpg\n",
            "Successfully Resized rock_39.jpg and saved as rock_39.jpg\n",
            "Successfully Resized rock_19.jpg and saved as rock_19.jpg\n",
            "Successfully Resized rock_21.jpg and saved as rock_21.jpg\n",
            "Successfully Resized rock_23.jpg and saved as rock_23.jpg\n",
            "Successfully Resized rock_37.jpg and saved as rock_37.jpg\n",
            "Successfully Resized rock_27.jpg and saved as rock_27.jpg\n",
            "Successfully Resized rock_35.jpg and saved as rock_35.jpg\n",
            "Successfully Resized rock_29.jpg and saved as rock_29.jpg\n",
            "Successfully Resized rock_31.jpg and saved as rock_31.jpg\n",
            "Successfully Resized rock_25.jpg and saved as rock_25.jpg\n",
            "Successfully Resized rock_33.jpg and saved as rock_33.jpg\n",
            "Successfully Resized rock_20.jpg and saved as rock_20.jpg\n",
            "Successfully Resized rock_1.jpg and saved as rock_1.jpg\n",
            "Successfully Resized rock_40.jpg and saved as rock_40.jpg\n",
            "Successfully Resized rock_5.jpg and saved as rock_5.jpg\n",
            "Successfully Resized rock_6.jpg and saved as rock_6.jpg\n",
            "Successfully Resized rock_18.jpg and saved as rock_18.jpg\n",
            "Successfully Resized rock_22.jpg and saved as rock_22.jpg\n",
            "Successfully Resized rock_26.jpg and saved as rock_26.jpg\n",
            "Successfully Resized rock_14.jpg and saved as rock_14.jpg\n",
            "Successfully Resized rock_2.jpg and saved as rock_2.jpg\n",
            "Successfully Resized rock_16.jpg and saved as rock_16.jpg\n",
            "Successfully Resized rock_4.jpg and saved as rock_4.jpg\n",
            "Successfully Resized rock_12.jpg and saved as rock_12.jpg\n",
            "Successfully Resized rock_28.jpg and saved as rock_28.jpg\n",
            "Successfully Resized rock_3.jpg and saved as rock_3.jpg\n",
            "Successfully Resized rock_8.jpg and saved as rock_8.jpg\n",
            "Successfully Resized rock_15.jpg and saved as rock_15.jpg\n",
            "Successfully Resized rock_9.jpg and saved as rock_9.jpg\n",
            "Successfully Resized rock_24.jpg and saved as rock_24.jpg\n",
            "Successfully Resized rock_32.jpg and saved as rock_32.jpg\n",
            "Successfully Resized rock_10.jpg and saved as rock_10.jpg\n",
            "Successfully Resized rock_36.jpg and saved as rock_36.jpg\n",
            "Successfully Resized rock_34.jpg and saved as rock_34.jpg\n",
            "Successfully Resized rock_30.jpg and saved as rock_30.jpg\n",
            "Successfully Resized rock_38.jpg and saved as rock_38.jpg\n",
            "Successfully Resized paper_16.jpg and saved as paper_16.jpg\n",
            "Successfully Resized paper_22.jpg and saved as paper_22.jpg\n",
            "Successfully Resized paper_21.jpg and saved as paper_21.jpg\n",
            "Successfully Resized paper_19.jpg and saved as paper_19.jpg\n",
            "Successfully Resized paper_17.jpg and saved as paper_17.jpg\n",
            "Successfully Resized paper_20.jpg and saved as paper_20.jpg\n",
            "Successfully Resized paper_35.jpg and saved as paper_35.jpg\n",
            "Successfully Resized paper_27.jpg and saved as paper_27.jpg\n",
            "Successfully Resized paper_36.jpg and saved as paper_36.jpg\n",
            "Successfully Resized paper_29.jpg and saved as paper_29.jpg\n",
            "Successfully Resized paper_24.jpg and saved as paper_24.jpg\n",
            "Successfully Resized paper_25.jpg and saved as paper_25.jpg\n",
            "Successfully Resized paper_31.jpg and saved as paper_31.jpg\n",
            "Successfully Resized paper_26.jpg and saved as paper_26.jpg\n",
            "Successfully Resized paper_28.jpg and saved as paper_28.jpg\n",
            "Successfully Resized paper_32.jpg and saved as paper_32.jpg\n",
            "Successfully Resized paper_30.jpg and saved as paper_30.jpg\n",
            "Successfully Resized paper_33.jpg and saved as paper_33.jpg\n",
            "Successfully Resized paper_6.jpg and saved as paper_6.jpg\n",
            "Error processing file paper_40.jpg at /content/gdrive/MyDrive/rps/train/paper/paper_40.jpg: cannot write mode RGBA as JPEG\n",
            "Renamed problematic file paper_40.jpg to z_paper_40.jpg\n",
            "Successfully Resized paper_3.jpg and saved as paper_3.jpg\n",
            "Successfully Resized paper_15.jpg and saved as paper_15.jpg\n",
            "Successfully Resized paper_37.jpg and saved as paper_37.jpg\n",
            "Successfully Resized paper_39.jpg and saved as paper_39.jpg\n",
            "Successfully Resized paper_18.jpg and saved as paper_18.jpg\n",
            "Successfully Resized paper_4.jpg and saved as paper_4.jpg\n",
            "Successfully Resized paper_13.jpg and saved as paper_13.jpg\n",
            "Successfully Resized paper_9.jpg and saved as paper_9.jpg\n",
            "Successfully Resized paper_10.jpg and saved as paper_10.jpg\n",
            "Successfully Resized paper_7.jpg and saved as paper_7.jpg\n",
            "Successfully Resized paper_5.jpg and saved as paper_5.jpg\n",
            "Successfully Resized paper_14.jpg and saved as paper_14.jpg\n",
            "Successfully Resized paper_38.jpg and saved as paper_38.jpg\n",
            "Successfully Resized paper_11.jpg and saved as paper_11.jpg\n",
            "Successfully Resized paper_8.jpg and saved as paper_8.jpg\n",
            "Successfully Resized paper_2.jpg and saved as paper_2.jpg\n",
            "Successfully Resized paper_44.jpg and saved as paper_44.jpg\n",
            "Error processing file paper_1.jpg at /content/gdrive/MyDrive/rps/train/paper/paper_1.jpg: cannot write mode RGBA as JPEG\n",
            "Renamed problematic file paper_1.jpg to z_paper_1.jpg\n",
            "Error processing file paper_12.jpg at /content/gdrive/MyDrive/rps/train/paper/paper_12.jpg: cannot write mode RGBA as JPEG\n",
            "Renamed problematic file paper_12.jpg to z_paper_12.jpg\n",
            "Error processing file paper_34.jpg at /content/gdrive/MyDrive/rps/train/paper/paper_34.jpg: cannot write mode RGBA as JPEG\n",
            "Renamed problematic file paper_34.jpg to z_paper_34.jpg\n",
            "Error processing file paper_23.jpg at /content/gdrive/MyDrive/rps/train/paper/paper_23.jpg: cannot write mode RGBA as JPEG\n",
            "Renamed problematic file paper_23.jpg to z_paper_23.jpg\n",
            "Error processing file paper_41.jpg at /content/gdrive/MyDrive/rps/train/paper/paper_41.jpg: cannot write mode RGBA as JPEG\n",
            "Renamed problematic file paper_41.jpg to z_paper_41.jpg\n",
            "Error processing file paper_42.jpg at /content/gdrive/MyDrive/rps/train/paper/paper_42.jpg: cannot write mode RGBA as JPEG\n",
            "Renamed problematic file paper_42.jpg to z_paper_42.jpg\n",
            "Error processing file paper_43.jpg at /content/gdrive/MyDrive/rps/train/paper/paper_43.jpg: cannot write mode RGBA as JPEG\n",
            "Renamed problematic file paper_43.jpg to z_paper_43.jpg\n",
            "Successfully Resized scissors_1.jpg and saved as scissors_1.jpg\n",
            "Successfully Resized scissors_7.jpg and saved as scissors_7.jpg\n",
            "Successfully Resized scissors_5.jpg and saved as scissors_5.jpg\n",
            "Successfully Resized scissors_11.jpg and saved as scissors_11.jpg\n",
            "Successfully Resized scissors_27.jpg and saved as scissors_27.jpg\n",
            "Successfully Resized scissors_39.jpg and saved as scissors_39.jpg\n",
            "Successfully Resized scissors_23.jpg and saved as scissors_23.jpg\n",
            "Successfully Resized scissors_33.jpg and saved as scissors_33.jpg\n",
            "Successfully Resized scissors_17.jpg and saved as scissors_17.jpg\n",
            "Successfully Resized scissors_13.jpg and saved as scissors_13.jpg\n",
            "Successfully Resized scissors_35.jpg and saved as scissors_35.jpg\n",
            "Successfully Resized scissors_19.jpg and saved as scissors_19.jpg\n",
            "Successfully Resized scissors_29.jpg and saved as scissors_29.jpg\n",
            "Successfully Resized scissors_25.jpg and saved as scissors_25.jpg\n",
            "Successfully Resized scissors_37.jpg and saved as scissors_37.jpg\n",
            "Successfully Resized scissors_21.jpg and saved as scissors_21.jpg\n",
            "Successfully Resized scissors_31.jpg and saved as scissors_31.jpg\n",
            "Successfully Resized scissors_22.jpg and saved as scissors_22.jpg\n",
            "Successfully Resized scissors_24.jpg and saved as scissors_24.jpg\n",
            "Successfully Resized scissors_26.jpg and saved as scissors_26.jpg\n",
            "Successfully Resized scissors_40.jpg and saved as scissors_40.jpg\n",
            "Successfully Resized scissors_18.jpg and saved as scissors_18.jpg\n",
            "Successfully Resized scissors_30.jpg and saved as scissors_30.jpg\n",
            "Successfully Resized scissors_36.jpg and saved as scissors_36.jpg\n",
            "Successfully Resized scissors_10.jpg and saved as scissors_10.jpg\n",
            "Successfully Resized scissors_32.jpg and saved as scissors_32.jpg\n",
            "Successfully Resized scissors_38.jpg and saved as scissors_38.jpg\n",
            "Successfully Resized scissors_34.jpg and saved as scissors_34.jpg\n",
            "Successfully Resized scissors_3.jpg and saved as scissors_3.jpg\n",
            "Successfully Resized scissors_15.jpg and saved as scissors_15.jpg\n",
            "Successfully Resized scissors_8.jpg and saved as scissors_8.jpg\n",
            "Successfully Resized scissors_9.jpg and saved as scissors_9.jpg\n",
            "Successfully Resized scissors_20.jpg and saved as scissors_20.jpg\n",
            "Successfully Resized scissors_2.jpg and saved as scissors_2.jpg\n",
            "Successfully Resized scissors_4.jpg and saved as scissors_4.jpg\n",
            "Successfully Resized scissors_6.jpg and saved as scissors_6.jpg\n",
            "Successfully Resized scissors_12.jpg and saved as scissors_12.jpg\n",
            "Successfully Resized scissors_16.jpg and saved as scissors_16.jpg\n",
            "Successfully Resized scissors_28.jpg and saved as scissors_28.jpg\n",
            "Successfully Resized scissors_14.jpg and saved as scissors_14.jpg\n"
          ]
        }
      ]
    },
    {
      "cell_type": "markdown",
      "source": [
        "ONLY AFTER REVIEWING AND DELETING FILES - Then RENAME, REORDER remaining files to jpg - Wait 1-2 minutes between running this and prior section to be sure the Z files are no longer in folder."
      ],
      "metadata": {
        "id": "fgoGbPWggXqQ"
      }
    },
    {
      "cell_type": "code",
      "source": [
        "import os\n",
        "\n",
        "def renumber_images(base_path):\n",
        "    categories = ['rock', 'paper', 'scissors']\n",
        "    for category in categories:\n",
        "        # Renumber images in the train folder\n",
        "        train_path = os.path.join(base_path, 'train', category)\n",
        "        renumber_folder(train_path, category)\n",
        "\n",
        "        # Renumber images in the test folder\n",
        "        test_path = os.path.join(base_path, 'test', category)\n",
        "        renumber_folder(test_path, category)\n",
        "\n",
        "def renumber_folder(folder_path, class_name):\n",
        "    if not os.path.exists(folder_path):\n",
        "        print(f\"Folder not found: {folder_path}\")\n",
        "        return\n",
        "\n",
        "    files = os.listdir(folder_path)\n",
        "    files.sort()  # Sort to maintain a consistent order\n",
        "\n",
        "    # First, rename all files to a temporary name\n",
        "    temp_files = []\n",
        "    for idx, filename in enumerate(files, start=1):\n",
        "        file_path = os.path.join(folder_path, filename)\n",
        "        if os.path.isfile(file_path):\n",
        "            temp_filename = f\"temp_{class_name}_{idx:05d}.jpg\"\n",
        "            temp_file_path = os.path.join(folder_path, temp_filename)\n",
        "            os.rename(file_path, temp_file_path)\n",
        "            temp_files.append(temp_filename)\n",
        "\n",
        "    # Then, rename all temporary files to the final name\n",
        "    for idx, temp_filename in enumerate(temp_files, start=1):\n",
        "        temp_file_path = os.path.join(folder_path, temp_filename)\n",
        "        if os.path.isfile(temp_file_path):\n",
        "            new_filename = f\"{class_name}_{idx}.jpg\"\n",
        "            new_file_path = os.path.join(folder_path, new_filename)\n",
        "            os.rename(temp_file_path, new_file_path)\n",
        "            print(f\"Renamed {temp_file_path} to {new_file_path}\")\n",
        "\n",
        "# Path to your dataset\n",
        "base_path = '/content/gdrive/My Drive/rps'\n",
        "renumber_images(base_path)"
      ],
      "metadata": {
        "colab": {
          "base_uri": "https://localhost:8080/"
        },
        "id": "tTfoOoWdTRvQ",
        "outputId": "6e85653b-7aad-43eb-ee4f-d39dc25f4536"
      },
      "execution_count": 29,
      "outputs": [
        {
          "output_type": "stream",
          "name": "stdout",
          "text": [
            "Renamed /content/gdrive/My Drive/rps/train/rock/temp_rock_00001.jpg to /content/gdrive/My Drive/rps/train/rock/rock_1.jpg\n",
            "Renamed /content/gdrive/My Drive/rps/train/rock/temp_rock_00002.jpg to /content/gdrive/My Drive/rps/train/rock/rock_2.jpg\n",
            "Renamed /content/gdrive/My Drive/rps/train/rock/temp_rock_00003.jpg to /content/gdrive/My Drive/rps/train/rock/rock_3.jpg\n",
            "Renamed /content/gdrive/My Drive/rps/train/rock/temp_rock_00004.jpg to /content/gdrive/My Drive/rps/train/rock/rock_4.jpg\n",
            "Renamed /content/gdrive/My Drive/rps/train/rock/temp_rock_00005.jpg to /content/gdrive/My Drive/rps/train/rock/rock_5.jpg\n",
            "Renamed /content/gdrive/My Drive/rps/train/rock/temp_rock_00006.jpg to /content/gdrive/My Drive/rps/train/rock/rock_6.jpg\n",
            "Renamed /content/gdrive/My Drive/rps/train/rock/temp_rock_00007.jpg to /content/gdrive/My Drive/rps/train/rock/rock_7.jpg\n",
            "Renamed /content/gdrive/My Drive/rps/train/rock/temp_rock_00008.jpg to /content/gdrive/My Drive/rps/train/rock/rock_8.jpg\n",
            "Renamed /content/gdrive/My Drive/rps/train/rock/temp_rock_00009.jpg to /content/gdrive/My Drive/rps/train/rock/rock_9.jpg\n",
            "Renamed /content/gdrive/My Drive/rps/train/rock/temp_rock_00010.jpg to /content/gdrive/My Drive/rps/train/rock/rock_10.jpg\n",
            "Renamed /content/gdrive/My Drive/rps/train/rock/temp_rock_00011.jpg to /content/gdrive/My Drive/rps/train/rock/rock_11.jpg\n",
            "Renamed /content/gdrive/My Drive/rps/train/rock/temp_rock_00012.jpg to /content/gdrive/My Drive/rps/train/rock/rock_12.jpg\n",
            "Renamed /content/gdrive/My Drive/rps/train/rock/temp_rock_00013.jpg to /content/gdrive/My Drive/rps/train/rock/rock_13.jpg\n",
            "Renamed /content/gdrive/My Drive/rps/train/rock/temp_rock_00014.jpg to /content/gdrive/My Drive/rps/train/rock/rock_14.jpg\n",
            "Renamed /content/gdrive/My Drive/rps/train/rock/temp_rock_00015.jpg to /content/gdrive/My Drive/rps/train/rock/rock_15.jpg\n",
            "Renamed /content/gdrive/My Drive/rps/train/rock/temp_rock_00016.jpg to /content/gdrive/My Drive/rps/train/rock/rock_16.jpg\n",
            "Renamed /content/gdrive/My Drive/rps/train/rock/temp_rock_00017.jpg to /content/gdrive/My Drive/rps/train/rock/rock_17.jpg\n",
            "Renamed /content/gdrive/My Drive/rps/train/rock/temp_rock_00018.jpg to /content/gdrive/My Drive/rps/train/rock/rock_18.jpg\n",
            "Renamed /content/gdrive/My Drive/rps/train/rock/temp_rock_00019.jpg to /content/gdrive/My Drive/rps/train/rock/rock_19.jpg\n",
            "Renamed /content/gdrive/My Drive/rps/train/rock/temp_rock_00020.jpg to /content/gdrive/My Drive/rps/train/rock/rock_20.jpg\n",
            "Renamed /content/gdrive/My Drive/rps/train/rock/temp_rock_00021.jpg to /content/gdrive/My Drive/rps/train/rock/rock_21.jpg\n",
            "Renamed /content/gdrive/My Drive/rps/train/rock/temp_rock_00022.jpg to /content/gdrive/My Drive/rps/train/rock/rock_22.jpg\n",
            "Renamed /content/gdrive/My Drive/rps/train/rock/temp_rock_00023.jpg to /content/gdrive/My Drive/rps/train/rock/rock_23.jpg\n",
            "Renamed /content/gdrive/My Drive/rps/train/rock/temp_rock_00024.jpg to /content/gdrive/My Drive/rps/train/rock/rock_24.jpg\n",
            "Renamed /content/gdrive/My Drive/rps/train/rock/temp_rock_00025.jpg to /content/gdrive/My Drive/rps/train/rock/rock_25.jpg\n",
            "Renamed /content/gdrive/My Drive/rps/train/rock/temp_rock_00026.jpg to /content/gdrive/My Drive/rps/train/rock/rock_26.jpg\n",
            "Renamed /content/gdrive/My Drive/rps/train/rock/temp_rock_00027.jpg to /content/gdrive/My Drive/rps/train/rock/rock_27.jpg\n",
            "Renamed /content/gdrive/My Drive/rps/train/rock/temp_rock_00028.jpg to /content/gdrive/My Drive/rps/train/rock/rock_28.jpg\n",
            "Renamed /content/gdrive/My Drive/rps/train/rock/temp_rock_00029.jpg to /content/gdrive/My Drive/rps/train/rock/rock_29.jpg\n",
            "Renamed /content/gdrive/My Drive/rps/train/rock/temp_rock_00030.jpg to /content/gdrive/My Drive/rps/train/rock/rock_30.jpg\n",
            "Renamed /content/gdrive/My Drive/rps/train/rock/temp_rock_00031.jpg to /content/gdrive/My Drive/rps/train/rock/rock_31.jpg\n",
            "Renamed /content/gdrive/My Drive/rps/train/rock/temp_rock_00032.jpg to /content/gdrive/My Drive/rps/train/rock/rock_32.jpg\n",
            "Renamed /content/gdrive/My Drive/rps/train/rock/temp_rock_00033.jpg to /content/gdrive/My Drive/rps/train/rock/rock_33.jpg\n",
            "Renamed /content/gdrive/My Drive/rps/train/rock/temp_rock_00034.jpg to /content/gdrive/My Drive/rps/train/rock/rock_34.jpg\n",
            "Renamed /content/gdrive/My Drive/rps/train/rock/temp_rock_00035.jpg to /content/gdrive/My Drive/rps/train/rock/rock_35.jpg\n",
            "Renamed /content/gdrive/My Drive/rps/train/rock/temp_rock_00036.jpg to /content/gdrive/My Drive/rps/train/rock/rock_36.jpg\n",
            "Renamed /content/gdrive/My Drive/rps/train/rock/temp_rock_00037.jpg to /content/gdrive/My Drive/rps/train/rock/rock_37.jpg\n",
            "Renamed /content/gdrive/My Drive/rps/train/rock/temp_rock_00038.jpg to /content/gdrive/My Drive/rps/train/rock/rock_38.jpg\n",
            "Renamed /content/gdrive/My Drive/rps/train/rock/temp_rock_00039.jpg to /content/gdrive/My Drive/rps/train/rock/rock_39.jpg\n",
            "Renamed /content/gdrive/My Drive/rps/train/rock/temp_rock_00040.jpg to /content/gdrive/My Drive/rps/train/rock/rock_40.jpg\n",
            "Renamed /content/gdrive/My Drive/rps/test/rock/temp_rock_00001.jpg to /content/gdrive/My Drive/rps/test/rock/rock_1.jpg\n",
            "Renamed /content/gdrive/My Drive/rps/test/rock/temp_rock_00002.jpg to /content/gdrive/My Drive/rps/test/rock/rock_2.jpg\n",
            "Renamed /content/gdrive/My Drive/rps/train/paper/temp_paper_00001.jpg to /content/gdrive/My Drive/rps/train/paper/paper_1.jpg\n",
            "Renamed /content/gdrive/My Drive/rps/train/paper/temp_paper_00002.jpg to /content/gdrive/My Drive/rps/train/paper/paper_2.jpg\n",
            "Renamed /content/gdrive/My Drive/rps/train/paper/temp_paper_00003.jpg to /content/gdrive/My Drive/rps/train/paper/paper_3.jpg\n",
            "Renamed /content/gdrive/My Drive/rps/train/paper/temp_paper_00004.jpg to /content/gdrive/My Drive/rps/train/paper/paper_4.jpg\n",
            "Renamed /content/gdrive/My Drive/rps/train/paper/temp_paper_00005.jpg to /content/gdrive/My Drive/rps/train/paper/paper_5.jpg\n",
            "Renamed /content/gdrive/My Drive/rps/train/paper/temp_paper_00006.jpg to /content/gdrive/My Drive/rps/train/paper/paper_6.jpg\n",
            "Renamed /content/gdrive/My Drive/rps/train/paper/temp_paper_00007.jpg to /content/gdrive/My Drive/rps/train/paper/paper_7.jpg\n",
            "Renamed /content/gdrive/My Drive/rps/train/paper/temp_paper_00008.jpg to /content/gdrive/My Drive/rps/train/paper/paper_8.jpg\n",
            "Renamed /content/gdrive/My Drive/rps/train/paper/temp_paper_00009.jpg to /content/gdrive/My Drive/rps/train/paper/paper_9.jpg\n",
            "Renamed /content/gdrive/My Drive/rps/train/paper/temp_paper_00010.jpg to /content/gdrive/My Drive/rps/train/paper/paper_10.jpg\n",
            "Renamed /content/gdrive/My Drive/rps/train/paper/temp_paper_00011.jpg to /content/gdrive/My Drive/rps/train/paper/paper_11.jpg\n",
            "Renamed /content/gdrive/My Drive/rps/train/paper/temp_paper_00012.jpg to /content/gdrive/My Drive/rps/train/paper/paper_12.jpg\n",
            "Renamed /content/gdrive/My Drive/rps/train/paper/temp_paper_00013.jpg to /content/gdrive/My Drive/rps/train/paper/paper_13.jpg\n",
            "Renamed /content/gdrive/My Drive/rps/train/paper/temp_paper_00014.jpg to /content/gdrive/My Drive/rps/train/paper/paper_14.jpg\n",
            "Renamed /content/gdrive/My Drive/rps/train/paper/temp_paper_00015.jpg to /content/gdrive/My Drive/rps/train/paper/paper_15.jpg\n",
            "Renamed /content/gdrive/My Drive/rps/train/paper/temp_paper_00016.jpg to /content/gdrive/My Drive/rps/train/paper/paper_16.jpg\n",
            "Renamed /content/gdrive/My Drive/rps/train/paper/temp_paper_00017.jpg to /content/gdrive/My Drive/rps/train/paper/paper_17.jpg\n",
            "Renamed /content/gdrive/My Drive/rps/train/paper/temp_paper_00018.jpg to /content/gdrive/My Drive/rps/train/paper/paper_18.jpg\n",
            "Renamed /content/gdrive/My Drive/rps/train/paper/temp_paper_00019.jpg to /content/gdrive/My Drive/rps/train/paper/paper_19.jpg\n",
            "Renamed /content/gdrive/My Drive/rps/train/paper/temp_paper_00020.jpg to /content/gdrive/My Drive/rps/train/paper/paper_20.jpg\n",
            "Renamed /content/gdrive/My Drive/rps/train/paper/temp_paper_00021.jpg to /content/gdrive/My Drive/rps/train/paper/paper_21.jpg\n",
            "Renamed /content/gdrive/My Drive/rps/train/paper/temp_paper_00022.jpg to /content/gdrive/My Drive/rps/train/paper/paper_22.jpg\n",
            "Renamed /content/gdrive/My Drive/rps/train/paper/temp_paper_00023.jpg to /content/gdrive/My Drive/rps/train/paper/paper_23.jpg\n",
            "Renamed /content/gdrive/My Drive/rps/train/paper/temp_paper_00024.jpg to /content/gdrive/My Drive/rps/train/paper/paper_24.jpg\n",
            "Renamed /content/gdrive/My Drive/rps/train/paper/temp_paper_00025.jpg to /content/gdrive/My Drive/rps/train/paper/paper_25.jpg\n",
            "Renamed /content/gdrive/My Drive/rps/train/paper/temp_paper_00026.jpg to /content/gdrive/My Drive/rps/train/paper/paper_26.jpg\n",
            "Renamed /content/gdrive/My Drive/rps/train/paper/temp_paper_00027.jpg to /content/gdrive/My Drive/rps/train/paper/paper_27.jpg\n",
            "Renamed /content/gdrive/My Drive/rps/train/paper/temp_paper_00028.jpg to /content/gdrive/My Drive/rps/train/paper/paper_28.jpg\n",
            "Renamed /content/gdrive/My Drive/rps/train/paper/temp_paper_00029.jpg to /content/gdrive/My Drive/rps/train/paper/paper_29.jpg\n",
            "Renamed /content/gdrive/My Drive/rps/train/paper/temp_paper_00030.jpg to /content/gdrive/My Drive/rps/train/paper/paper_30.jpg\n",
            "Renamed /content/gdrive/My Drive/rps/train/paper/temp_paper_00031.jpg to /content/gdrive/My Drive/rps/train/paper/paper_31.jpg\n",
            "Renamed /content/gdrive/My Drive/rps/train/paper/temp_paper_00032.jpg to /content/gdrive/My Drive/rps/train/paper/paper_32.jpg\n",
            "Renamed /content/gdrive/My Drive/rps/train/paper/temp_paper_00033.jpg to /content/gdrive/My Drive/rps/train/paper/paper_33.jpg\n",
            "Renamed /content/gdrive/My Drive/rps/train/paper/temp_paper_00034.jpg to /content/gdrive/My Drive/rps/train/paper/paper_34.jpg\n",
            "Renamed /content/gdrive/My Drive/rps/train/paper/temp_paper_00035.jpg to /content/gdrive/My Drive/rps/train/paper/paper_35.jpg\n",
            "Renamed /content/gdrive/My Drive/rps/train/paper/temp_paper_00036.jpg to /content/gdrive/My Drive/rps/train/paper/paper_36.jpg\n",
            "Renamed /content/gdrive/My Drive/rps/test/paper/temp_paper_00001.jpg to /content/gdrive/My Drive/rps/test/paper/paper_1.jpg\n",
            "Renamed /content/gdrive/My Drive/rps/test/paper/temp_paper_00002.jpg to /content/gdrive/My Drive/rps/test/paper/paper_2.jpg\n",
            "Renamed /content/gdrive/My Drive/rps/train/scissors/temp_scissors_00001.jpg to /content/gdrive/My Drive/rps/train/scissors/scissors_1.jpg\n",
            "Renamed /content/gdrive/My Drive/rps/train/scissors/temp_scissors_00002.jpg to /content/gdrive/My Drive/rps/train/scissors/scissors_2.jpg\n",
            "Renamed /content/gdrive/My Drive/rps/train/scissors/temp_scissors_00003.jpg to /content/gdrive/My Drive/rps/train/scissors/scissors_3.jpg\n",
            "Renamed /content/gdrive/My Drive/rps/train/scissors/temp_scissors_00004.jpg to /content/gdrive/My Drive/rps/train/scissors/scissors_4.jpg\n",
            "Renamed /content/gdrive/My Drive/rps/train/scissors/temp_scissors_00005.jpg to /content/gdrive/My Drive/rps/train/scissors/scissors_5.jpg\n",
            "Renamed /content/gdrive/My Drive/rps/train/scissors/temp_scissors_00006.jpg to /content/gdrive/My Drive/rps/train/scissors/scissors_6.jpg\n",
            "Renamed /content/gdrive/My Drive/rps/train/scissors/temp_scissors_00007.jpg to /content/gdrive/My Drive/rps/train/scissors/scissors_7.jpg\n",
            "Renamed /content/gdrive/My Drive/rps/train/scissors/temp_scissors_00008.jpg to /content/gdrive/My Drive/rps/train/scissors/scissors_8.jpg\n",
            "Renamed /content/gdrive/My Drive/rps/train/scissors/temp_scissors_00009.jpg to /content/gdrive/My Drive/rps/train/scissors/scissors_9.jpg\n",
            "Renamed /content/gdrive/My Drive/rps/train/scissors/temp_scissors_00010.jpg to /content/gdrive/My Drive/rps/train/scissors/scissors_10.jpg\n",
            "Renamed /content/gdrive/My Drive/rps/train/scissors/temp_scissors_00011.jpg to /content/gdrive/My Drive/rps/train/scissors/scissors_11.jpg\n",
            "Renamed /content/gdrive/My Drive/rps/train/scissors/temp_scissors_00012.jpg to /content/gdrive/My Drive/rps/train/scissors/scissors_12.jpg\n",
            "Renamed /content/gdrive/My Drive/rps/train/scissors/temp_scissors_00013.jpg to /content/gdrive/My Drive/rps/train/scissors/scissors_13.jpg\n",
            "Renamed /content/gdrive/My Drive/rps/train/scissors/temp_scissors_00014.jpg to /content/gdrive/My Drive/rps/train/scissors/scissors_14.jpg\n",
            "Renamed /content/gdrive/My Drive/rps/train/scissors/temp_scissors_00015.jpg to /content/gdrive/My Drive/rps/train/scissors/scissors_15.jpg\n",
            "Renamed /content/gdrive/My Drive/rps/train/scissors/temp_scissors_00016.jpg to /content/gdrive/My Drive/rps/train/scissors/scissors_16.jpg\n",
            "Renamed /content/gdrive/My Drive/rps/train/scissors/temp_scissors_00017.jpg to /content/gdrive/My Drive/rps/train/scissors/scissors_17.jpg\n",
            "Renamed /content/gdrive/My Drive/rps/train/scissors/temp_scissors_00018.jpg to /content/gdrive/My Drive/rps/train/scissors/scissors_18.jpg\n",
            "Renamed /content/gdrive/My Drive/rps/train/scissors/temp_scissors_00019.jpg to /content/gdrive/My Drive/rps/train/scissors/scissors_19.jpg\n",
            "Renamed /content/gdrive/My Drive/rps/train/scissors/temp_scissors_00020.jpg to /content/gdrive/My Drive/rps/train/scissors/scissors_20.jpg\n",
            "Renamed /content/gdrive/My Drive/rps/train/scissors/temp_scissors_00021.jpg to /content/gdrive/My Drive/rps/train/scissors/scissors_21.jpg\n",
            "Renamed /content/gdrive/My Drive/rps/train/scissors/temp_scissors_00022.jpg to /content/gdrive/My Drive/rps/train/scissors/scissors_22.jpg\n",
            "Renamed /content/gdrive/My Drive/rps/train/scissors/temp_scissors_00023.jpg to /content/gdrive/My Drive/rps/train/scissors/scissors_23.jpg\n",
            "Renamed /content/gdrive/My Drive/rps/train/scissors/temp_scissors_00024.jpg to /content/gdrive/My Drive/rps/train/scissors/scissors_24.jpg\n",
            "Renamed /content/gdrive/My Drive/rps/train/scissors/temp_scissors_00025.jpg to /content/gdrive/My Drive/rps/train/scissors/scissors_25.jpg\n",
            "Renamed /content/gdrive/My Drive/rps/train/scissors/temp_scissors_00026.jpg to /content/gdrive/My Drive/rps/train/scissors/scissors_26.jpg\n",
            "Renamed /content/gdrive/My Drive/rps/train/scissors/temp_scissors_00027.jpg to /content/gdrive/My Drive/rps/train/scissors/scissors_27.jpg\n",
            "Renamed /content/gdrive/My Drive/rps/train/scissors/temp_scissors_00028.jpg to /content/gdrive/My Drive/rps/train/scissors/scissors_28.jpg\n",
            "Renamed /content/gdrive/My Drive/rps/train/scissors/temp_scissors_00029.jpg to /content/gdrive/My Drive/rps/train/scissors/scissors_29.jpg\n",
            "Renamed /content/gdrive/My Drive/rps/train/scissors/temp_scissors_00030.jpg to /content/gdrive/My Drive/rps/train/scissors/scissors_30.jpg\n",
            "Renamed /content/gdrive/My Drive/rps/train/scissors/temp_scissors_00031.jpg to /content/gdrive/My Drive/rps/train/scissors/scissors_31.jpg\n",
            "Renamed /content/gdrive/My Drive/rps/train/scissors/temp_scissors_00032.jpg to /content/gdrive/My Drive/rps/train/scissors/scissors_32.jpg\n",
            "Renamed /content/gdrive/My Drive/rps/train/scissors/temp_scissors_00033.jpg to /content/gdrive/My Drive/rps/train/scissors/scissors_33.jpg\n",
            "Renamed /content/gdrive/My Drive/rps/train/scissors/temp_scissors_00034.jpg to /content/gdrive/My Drive/rps/train/scissors/scissors_34.jpg\n",
            "Renamed /content/gdrive/My Drive/rps/train/scissors/temp_scissors_00035.jpg to /content/gdrive/My Drive/rps/train/scissors/scissors_35.jpg\n",
            "Renamed /content/gdrive/My Drive/rps/train/scissors/temp_scissors_00036.jpg to /content/gdrive/My Drive/rps/train/scissors/scissors_36.jpg\n",
            "Renamed /content/gdrive/My Drive/rps/train/scissors/temp_scissors_00037.jpg to /content/gdrive/My Drive/rps/train/scissors/scissors_37.jpg\n",
            "Renamed /content/gdrive/My Drive/rps/train/scissors/temp_scissors_00038.jpg to /content/gdrive/My Drive/rps/train/scissors/scissors_38.jpg\n",
            "Renamed /content/gdrive/My Drive/rps/train/scissors/temp_scissors_00039.jpg to /content/gdrive/My Drive/rps/train/scissors/scissors_39.jpg\n",
            "Renamed /content/gdrive/My Drive/rps/train/scissors/temp_scissors_00040.jpg to /content/gdrive/My Drive/rps/train/scissors/scissors_40.jpg\n",
            "Renamed /content/gdrive/My Drive/rps/test/scissors/temp_scissors_00001.jpg to /content/gdrive/My Drive/rps/test/scissors/scissors_1.jpg\n",
            "Renamed /content/gdrive/My Drive/rps/test/scissors/temp_scissors_00002.jpg to /content/gdrive/My Drive/rps/test/scissors/scissors_2.jpg\n"
          ]
        }
      ]
    }
  ]
}